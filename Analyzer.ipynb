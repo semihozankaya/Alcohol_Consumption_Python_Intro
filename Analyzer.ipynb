{
 "cells": [
  {
   "cell_type": "markdown",
   "metadata": {},
   "source": [
    "## Preamble"
   ]
  },
  {
   "cell_type": "code",
   "execution_count": 64,
   "metadata": {},
   "outputs": [],
   "source": [
    "import pandas as pd\n",
    "import numpy as np\n",
    "from scipy.stats import pearsonr\n",
    "import seaborn as sns\n",
    "import statsmodels.formula.api as sm\n",
    "\n",
    "%matplotlib inline"
   ]
  },
  {
   "cell_type": "code",
   "execution_count": 3,
   "metadata": {},
   "outputs": [],
   "source": [
    "most = pd.read_csv('/home/ozzy/Documents/CEU/MPDS/Homework/Data/Clean/most_combined.csv')\n",
    "healthy = pd.read_csv('/home/ozzy/Documents/CEU/MPDS/Homework/Data/Clean/healthy_combined.csv')\n",
    "after = pd.read_csv('/home/ozzy/Documents/CEU/MPDS/Homework/Data/Clean/after_combined.csv')"
   ]
  },
  {
   "cell_type": "markdown",
   "metadata": {},
   "source": [
    "## Correlation"
   ]
  },
  {
   "cell_type": "markdown",
   "metadata": {},
   "source": [
    "We have used the cleaner notebook to clean and combine our raw data. From here onwards, we will work on the transformed data. \n",
    "\n",
    "We are asked to look at the correlation between alcohol consumption and life expectancy. Below, correlation coefficient of life expectancy and alcohol consumotion can be seen for life expectancy from birth, from 60 years of age and healthy life expectancy from birth. Pairwise correlation coefficients between other variables can also be seen following the main exercise."
   ]
  },
  {
   "cell_type": "code",
   "execution_count": 13,
   "metadata": {},
   "outputs": [
    {
     "data": {
      "text/plain": [
       "(0.5229732013227903, 8.424056615105076e-15)"
      ]
     },
     "execution_count": 13,
     "metadata": {},
     "output_type": "execute_result"
    }
   ],
   "source": [
    "pearsonr(most[\"Numeric\"], most[\"total_litres_of_pure_alcohol\"])"
   ]
  },
  {
   "cell_type": "code",
   "execution_count": 30,
   "metadata": {},
   "outputs": [
    {
     "data": {
      "text/html": [
       "<div>\n",
       "<style scoped>\n",
       "    .dataframe tbody tr th:only-of-type {\n",
       "        vertical-align: middle;\n",
       "    }\n",
       "\n",
       "    .dataframe tbody tr th {\n",
       "        vertical-align: top;\n",
       "    }\n",
       "\n",
       "    .dataframe thead th {\n",
       "        text-align: right;\n",
       "    }\n",
       "</style>\n",
       "<table border=\"1\" class=\"dataframe\">\n",
       "  <thead>\n",
       "    <tr style=\"text-align: right;\">\n",
       "      <th></th>\n",
       "      <th>Numeric</th>\n",
       "    </tr>\n",
       "  </thead>\n",
       "  <tbody>\n",
       "    <tr>\n",
       "      <th>Population</th>\n",
       "      <td>0.012381</td>\n",
       "    </tr>\n",
       "    <tr>\n",
       "      <th>Area</th>\n",
       "      <td>0.028482</td>\n",
       "    </tr>\n",
       "    <tr>\n",
       "      <th>Pop. Density</th>\n",
       "      <td>0.157145</td>\n",
       "    </tr>\n",
       "    <tr>\n",
       "      <th>Coastline</th>\n",
       "      <td>0.052400</td>\n",
       "    </tr>\n",
       "    <tr>\n",
       "      <th>Net migration</th>\n",
       "      <td>0.123086</td>\n",
       "    </tr>\n",
       "    <tr>\n",
       "      <th>Infant mortality</th>\n",
       "      <td>-0.862845</td>\n",
       "    </tr>\n",
       "    <tr>\n",
       "      <th>GDP</th>\n",
       "      <td>0.679862</td>\n",
       "    </tr>\n",
       "    <tr>\n",
       "      <th>Literacy</th>\n",
       "      <td>0.686430</td>\n",
       "    </tr>\n",
       "    <tr>\n",
       "      <th>Phones</th>\n",
       "      <td>0.735930</td>\n",
       "    </tr>\n",
       "    <tr>\n",
       "      <th>Arable</th>\n",
       "      <td>0.129808</td>\n",
       "    </tr>\n",
       "    <tr>\n",
       "      <th>Crops</th>\n",
       "      <td>-0.002354</td>\n",
       "    </tr>\n",
       "    <tr>\n",
       "      <th>Other</th>\n",
       "      <td>-0.104849</td>\n",
       "    </tr>\n",
       "    <tr>\n",
       "      <th>Birthrate</th>\n",
       "      <td>-0.813922</td>\n",
       "    </tr>\n",
       "    <tr>\n",
       "      <th>Deathrate</th>\n",
       "      <td>-0.649394</td>\n",
       "    </tr>\n",
       "    <tr>\n",
       "      <th>beer_servings</th>\n",
       "      <td>0.427135</td>\n",
       "    </tr>\n",
       "    <tr>\n",
       "      <th>spirit_servings</th>\n",
       "      <td>0.338954</td>\n",
       "    </tr>\n",
       "    <tr>\n",
       "      <th>wine_servings</th>\n",
       "      <td>0.457551</td>\n",
       "    </tr>\n",
       "    <tr>\n",
       "      <th>total_litres_of_pure_alcohol</th>\n",
       "      <td>0.522973</td>\n",
       "    </tr>\n",
       "    <tr>\n",
       "      <th>Numeric</th>\n",
       "      <td>1.000000</td>\n",
       "    </tr>\n",
       "    <tr>\n",
       "      <th>YearCode</th>\n",
       "      <td>NaN</td>\n",
       "    </tr>\n",
       "  </tbody>\n",
       "</table>\n",
       "</div>"
      ],
      "text/plain": [
       "                               Numeric\n",
       "Population                    0.012381\n",
       "Area                          0.028482\n",
       "Pop. Density                  0.157145\n",
       "Coastline                     0.052400\n",
       "Net migration                 0.123086\n",
       "Infant mortality             -0.862845\n",
       "GDP                           0.679862\n",
       "Literacy                      0.686430\n",
       "Phones                        0.735930\n",
       "Arable                        0.129808\n",
       "Crops                        -0.002354\n",
       "Other                        -0.104849\n",
       "Birthrate                    -0.813922\n",
       "Deathrate                    -0.649394\n",
       "beer_servings                 0.427135\n",
       "spirit_servings               0.338954\n",
       "wine_servings                 0.457551\n",
       "total_litres_of_pure_alcohol  0.522973\n",
       "Numeric                       1.000000\n",
       "YearCode                           NaN"
      ]
     },
     "execution_count": 30,
     "metadata": {},
     "output_type": "execute_result"
    }
   ],
   "source": [
    "most.corr()[[\"Numeric\"]]"
   ]
  },
  {
   "cell_type": "code",
   "execution_count": 15,
   "metadata": {},
   "outputs": [
    {
     "data": {
      "text/plain": [
       "(0.5194041542657446, 1.3740913252717588e-14)"
      ]
     },
     "execution_count": 15,
     "metadata": {},
     "output_type": "execute_result"
    }
   ],
   "source": [
    "pearsonr(healthy[\"Numeric\"], healthy[\"total_litres_of_pure_alcohol\"])"
   ]
  },
  {
   "cell_type": "code",
   "execution_count": 29,
   "metadata": {},
   "outputs": [
    {
     "data": {
      "text/html": [
       "<div>\n",
       "<style scoped>\n",
       "    .dataframe tbody tr th:only-of-type {\n",
       "        vertical-align: middle;\n",
       "    }\n",
       "\n",
       "    .dataframe tbody tr th {\n",
       "        vertical-align: top;\n",
       "    }\n",
       "\n",
       "    .dataframe thead th {\n",
       "        text-align: right;\n",
       "    }\n",
       "</style>\n",
       "<table border=\"1\" class=\"dataframe\">\n",
       "  <thead>\n",
       "    <tr style=\"text-align: right;\">\n",
       "      <th></th>\n",
       "      <th>Numeric</th>\n",
       "    </tr>\n",
       "  </thead>\n",
       "  <tbody>\n",
       "    <tr>\n",
       "      <th>Population</th>\n",
       "      <td>0.035631</td>\n",
       "    </tr>\n",
       "    <tr>\n",
       "      <th>Area</th>\n",
       "      <td>0.046602</td>\n",
       "    </tr>\n",
       "    <tr>\n",
       "      <th>Pop. Density</th>\n",
       "      <td>0.170943</td>\n",
       "    </tr>\n",
       "    <tr>\n",
       "      <th>Coastline</th>\n",
       "      <td>0.047091</td>\n",
       "    </tr>\n",
       "    <tr>\n",
       "      <th>Net migration</th>\n",
       "      <td>0.132898</td>\n",
       "    </tr>\n",
       "    <tr>\n",
       "      <th>Infant mortality</th>\n",
       "      <td>-0.862273</td>\n",
       "    </tr>\n",
       "    <tr>\n",
       "      <th>GDP</th>\n",
       "      <td>0.688270</td>\n",
       "    </tr>\n",
       "    <tr>\n",
       "      <th>Literacy</th>\n",
       "      <td>0.694757</td>\n",
       "    </tr>\n",
       "    <tr>\n",
       "      <th>Phones</th>\n",
       "      <td>0.739754</td>\n",
       "    </tr>\n",
       "    <tr>\n",
       "      <th>Arable</th>\n",
       "      <td>0.141139</td>\n",
       "    </tr>\n",
       "    <tr>\n",
       "      <th>Crops</th>\n",
       "      <td>-0.014112</td>\n",
       "    </tr>\n",
       "    <tr>\n",
       "      <th>Other</th>\n",
       "      <td>-0.108017</td>\n",
       "    </tr>\n",
       "    <tr>\n",
       "      <th>Birthrate</th>\n",
       "      <td>-0.828238</td>\n",
       "    </tr>\n",
       "    <tr>\n",
       "      <th>Deathrate</th>\n",
       "      <td>-0.643933</td>\n",
       "    </tr>\n",
       "    <tr>\n",
       "      <th>beer_servings</th>\n",
       "      <td>0.428247</td>\n",
       "    </tr>\n",
       "    <tr>\n",
       "      <th>spirit_servings</th>\n",
       "      <td>0.326664</td>\n",
       "    </tr>\n",
       "    <tr>\n",
       "      <th>wine_servings</th>\n",
       "      <td>0.460319</td>\n",
       "    </tr>\n",
       "    <tr>\n",
       "      <th>total_litres_of_pure_alcohol</th>\n",
       "      <td>0.519404</td>\n",
       "    </tr>\n",
       "    <tr>\n",
       "      <th>Numeric</th>\n",
       "      <td>1.000000</td>\n",
       "    </tr>\n",
       "    <tr>\n",
       "      <th>YearCode</th>\n",
       "      <td>NaN</td>\n",
       "    </tr>\n",
       "  </tbody>\n",
       "</table>\n",
       "</div>"
      ],
      "text/plain": [
       "                               Numeric\n",
       "Population                    0.035631\n",
       "Area                          0.046602\n",
       "Pop. Density                  0.170943\n",
       "Coastline                     0.047091\n",
       "Net migration                 0.132898\n",
       "Infant mortality             -0.862273\n",
       "GDP                           0.688270\n",
       "Literacy                      0.694757\n",
       "Phones                        0.739754\n",
       "Arable                        0.141139\n",
       "Crops                        -0.014112\n",
       "Other                        -0.108017\n",
       "Birthrate                    -0.828238\n",
       "Deathrate                    -0.643933\n",
       "beer_servings                 0.428247\n",
       "spirit_servings               0.326664\n",
       "wine_servings                 0.460319\n",
       "total_litres_of_pure_alcohol  0.519404\n",
       "Numeric                       1.000000\n",
       "YearCode                           NaN"
      ]
     },
     "execution_count": 29,
     "metadata": {},
     "output_type": "execute_result"
    }
   ],
   "source": [
    "healthy.corr()[[\"Numeric\"]]"
   ]
  },
  {
   "cell_type": "code",
   "execution_count": 16,
   "metadata": {},
   "outputs": [
    {
     "data": {
      "text/plain": [
       "(0.5417296624445751, 5.845497401977279e-16)"
      ]
     },
     "execution_count": 16,
     "metadata": {},
     "output_type": "execute_result"
    }
   ],
   "source": [
    "pearsonr(after[\"Numeric\"], after[\"total_litres_of_pure_alcohol\"])"
   ]
  },
  {
   "cell_type": "code",
   "execution_count": 28,
   "metadata": {},
   "outputs": [
    {
     "data": {
      "text/html": [
       "<div>\n",
       "<style scoped>\n",
       "    .dataframe tbody tr th:only-of-type {\n",
       "        vertical-align: middle;\n",
       "    }\n",
       "\n",
       "    .dataframe tbody tr th {\n",
       "        vertical-align: top;\n",
       "    }\n",
       "\n",
       "    .dataframe thead th {\n",
       "        text-align: right;\n",
       "    }\n",
       "</style>\n",
       "<table border=\"1\" class=\"dataframe\">\n",
       "  <thead>\n",
       "    <tr style=\"text-align: right;\">\n",
       "      <th></th>\n",
       "      <th>Numeric</th>\n",
       "    </tr>\n",
       "  </thead>\n",
       "  <tbody>\n",
       "    <tr>\n",
       "      <th>Population</th>\n",
       "      <td>-0.030332</td>\n",
       "    </tr>\n",
       "    <tr>\n",
       "      <th>Area</th>\n",
       "      <td>0.020648</td>\n",
       "    </tr>\n",
       "    <tr>\n",
       "      <th>Pop. Density</th>\n",
       "      <td>0.198431</td>\n",
       "    </tr>\n",
       "    <tr>\n",
       "      <th>Coastline</th>\n",
       "      <td>-0.012262</td>\n",
       "    </tr>\n",
       "    <tr>\n",
       "      <th>Net migration</th>\n",
       "      <td>0.207798</td>\n",
       "    </tr>\n",
       "    <tr>\n",
       "      <th>Infant mortality</th>\n",
       "      <td>-0.731450</td>\n",
       "    </tr>\n",
       "    <tr>\n",
       "      <th>GDP</th>\n",
       "      <td>0.752737</td>\n",
       "    </tr>\n",
       "    <tr>\n",
       "      <th>Literacy</th>\n",
       "      <td>0.616857</td>\n",
       "    </tr>\n",
       "    <tr>\n",
       "      <th>Phones</th>\n",
       "      <td>0.762344</td>\n",
       "    </tr>\n",
       "    <tr>\n",
       "      <th>Arable</th>\n",
       "      <td>0.079612</td>\n",
       "    </tr>\n",
       "    <tr>\n",
       "      <th>Crops</th>\n",
       "      <td>-0.073677</td>\n",
       "    </tr>\n",
       "    <tr>\n",
       "      <th>Other</th>\n",
       "      <td>-0.026899</td>\n",
       "    </tr>\n",
       "    <tr>\n",
       "      <th>Birthrate</th>\n",
       "      <td>-0.710387</td>\n",
       "    </tr>\n",
       "    <tr>\n",
       "      <th>Deathrate</th>\n",
       "      <td>-0.430008</td>\n",
       "    </tr>\n",
       "    <tr>\n",
       "      <th>beer_servings</th>\n",
       "      <td>0.486009</td>\n",
       "    </tr>\n",
       "    <tr>\n",
       "      <th>spirit_servings</th>\n",
       "      <td>0.253562</td>\n",
       "    </tr>\n",
       "    <tr>\n",
       "      <th>wine_servings</th>\n",
       "      <td>0.526228</td>\n",
       "    </tr>\n",
       "    <tr>\n",
       "      <th>total_litres_of_pure_alcohol</th>\n",
       "      <td>0.541730</td>\n",
       "    </tr>\n",
       "    <tr>\n",
       "      <th>Numeric</th>\n",
       "      <td>1.000000</td>\n",
       "    </tr>\n",
       "    <tr>\n",
       "      <th>YearCode</th>\n",
       "      <td>NaN</td>\n",
       "    </tr>\n",
       "  </tbody>\n",
       "</table>\n",
       "</div>"
      ],
      "text/plain": [
       "                               Numeric\n",
       "Population                   -0.030332\n",
       "Area                          0.020648\n",
       "Pop. Density                  0.198431\n",
       "Coastline                    -0.012262\n",
       "Net migration                 0.207798\n",
       "Infant mortality             -0.731450\n",
       "GDP                           0.752737\n",
       "Literacy                      0.616857\n",
       "Phones                        0.762344\n",
       "Arable                        0.079612\n",
       "Crops                        -0.073677\n",
       "Other                        -0.026899\n",
       "Birthrate                    -0.710387\n",
       "Deathrate                    -0.430008\n",
       "beer_servings                 0.486009\n",
       "spirit_servings               0.253562\n",
       "wine_servings                 0.526228\n",
       "total_litres_of_pure_alcohol  0.541730\n",
       "Numeric                       1.000000\n",
       "YearCode                           NaN"
      ]
     },
     "execution_count": 28,
     "metadata": {},
     "output_type": "execute_result"
    }
   ],
   "source": [
    "after.corr()[[\"Numeric\"]]"
   ]
  },
  {
   "cell_type": "markdown",
   "metadata": {},
   "source": [
    "It is evident that alcohol consumption and all forms of life expectencies shows a rather strong positive correlation. This is counterintuitive. But looking at the pairwise correlations, we can also see that life expectancy is strongly correlated with GDP as well or other developmental variables such as literacy, birth rate, population density and of course infant mortality and death rate of a given country. It is most likely that more developed countries tend to consume more alcohol, given their higher disposable income (or perhaps given their more accurate data collection though we don't know the methodology behind these numbers but it could be that developing countries might have a bigger unrecorded economy). \n",
    "\n",
    "The correlation seems to be highly biased due to this phenomenon. We can take a look at correlations between alcohol consumption and GDP (among other variables) to see if this is indeed correct. A simple OLS regression can also help us determine if alcohol consumption's inclusion offers us enough insight for explaining life expectancies or rather it creates noise for each variables coefficient. But first, we should also take a look at some scatterplots of alcohol consumption to see if the effet is somewhat linear or if there are any distinct patterns (such as increasing morbidity with higher alcohol consumption and so on). For ease of analysis, I am opting for checking only the life expectancy from birth dataset from now on since the datasets are quite similar anyways. "
   ]
  },
  {
   "cell_type": "markdown",
   "metadata": {},
   "source": [
    "## Visualizations"
   ]
  },
  {
   "cell_type": "code",
   "execution_count": 40,
   "metadata": {},
   "outputs": [
    {
     "data": {
      "text/plain": [
       "<seaborn.axisgrid.FacetGrid at 0x7f00ac185a90>"
      ]
     },
     "execution_count": 40,
     "metadata": {},
     "output_type": "execute_result"
    },
    {
     "data": {
      "image/png": "[encoded data removed]",
      "text/plain": [
       "<Figure size 360x360 with 1 Axes>"
      ]
     },
     "metadata": {
      "needs_background": "light"
     },
     "output_type": "display_data"
    }
   ],
   "source": [
    "graph1 = sns.lmplot(x = \"total_litres_of_pure_alcohol\", y = 'Numeric', data = most, fit_reg=True, order=1, ci=None)\n",
    "graph1"
   ]
  },
  {
   "cell_type": "code",
   "execution_count": 41,
   "metadata": {},
   "outputs": [
    {
     "data": {
      "text/plain": [
       "<seaborn.axisgrid.FacetGrid at 0x7f00ac195d90>"
      ]
     },
     "execution_count": 41,
     "metadata": {},
     "output_type": "execute_result"
    },
    {
     "data": {
      "image/png": "[encoded data removed]",
      "text/plain": [
       "<Figure size 360x360 with 1 Axes>"
      ]
     },
     "metadata": {
      "needs_background": "light"
     },
     "output_type": "display_data"
    }
   ],
   "source": [
    "graph2 = sns.lmplot(x = \"total_litres_of_pure_alcohol\", y = 'Numeric', data = most, fit_reg=True, order=2, ci=None)\n",
    "graph2"
   ]
  },
  {
   "cell_type": "code",
   "execution_count": 44,
   "metadata": {},
   "outputs": [
    {
     "data": {
      "text/plain": [
       "<seaborn.axisgrid.FacetGrid at 0x7f00ac0df850>"
      ]
     },
     "execution_count": 44,
     "metadata": {},
     "output_type": "execute_result"
    },
    {
     "data": {
      "image/png": "[encoded data removed]",
      "text/plain": [
       "<Figure size 360x360 with 1 Axes>"
      ]
     },
     "metadata": {
      "needs_background": "light"
     },
     "output_type": "display_data"
    }
   ],
   "source": [
    "graph3 = sns.lmplot(x = \"total_litres_of_pure_alcohol\", y = 'Numeric', data = most, fit_reg=True, order=3, ci=None)\n",
    "graph3"
   ]
  },
  {
   "cell_type": "markdown",
   "metadata": {},
   "source": [
    "There seems to be a nonlinear association betweem life expectancy and alcohol consumption but the effect is weak. It is hard to argue that there are two distinct story when it comes to alcohol consumption. It seems to be plainly associated positively with life expectancy. Now, we can see pairwise correlation of alcohol consumption with other variables."
   ]
  },
  {
   "cell_type": "code",
   "execution_count": 60,
   "metadata": {},
   "outputs": [
    {
     "data": {
      "text/html": [
       "<div>\n",
       "<style scoped>\n",
       "    .dataframe tbody tr th:only-of-type {\n",
       "        vertical-align: middle;\n",
       "    }\n",
       "\n",
       "    .dataframe tbody tr th {\n",
       "        vertical-align: top;\n",
       "    }\n",
       "\n",
       "    .dataframe thead th {\n",
       "        text-align: right;\n",
       "    }\n",
       "</style>\n",
       "<table border=\"1\" class=\"dataframe\">\n",
       "  <thead>\n",
       "    <tr style=\"text-align: right;\">\n",
       "      <th></th>\n",
       "      <th>total_litres_of_pure_alcohol</th>\n",
       "    </tr>\n",
       "  </thead>\n",
       "  <tbody>\n",
       "    <tr>\n",
       "      <th>Population</th>\n",
       "      <td>-0.011443</td>\n",
       "    </tr>\n",
       "    <tr>\n",
       "      <th>Area</th>\n",
       "      <td>0.150210</td>\n",
       "    </tr>\n",
       "    <tr>\n",
       "      <th>Pop. Density</th>\n",
       "      <td>-0.101727</td>\n",
       "    </tr>\n",
       "    <tr>\n",
       "      <th>Coastline</th>\n",
       "      <td>-0.056365</td>\n",
       "    </tr>\n",
       "    <tr>\n",
       "      <th>Net migration</th>\n",
       "      <td>-0.018710</td>\n",
       "    </tr>\n",
       "    <tr>\n",
       "      <th>Infant mortality</th>\n",
       "      <td>-0.556204</td>\n",
       "    </tr>\n",
       "    <tr>\n",
       "      <th>GDP</th>\n",
       "      <td>0.544550</td>\n",
       "    </tr>\n",
       "    <tr>\n",
       "      <th>Literacy</th>\n",
       "      <td>0.603354</td>\n",
       "    </tr>\n",
       "    <tr>\n",
       "      <th>Phones</th>\n",
       "      <td>0.602322</td>\n",
       "    </tr>\n",
       "    <tr>\n",
       "      <th>Arable</th>\n",
       "      <td>0.283953</td>\n",
       "    </tr>\n",
       "    <tr>\n",
       "      <th>Crops</th>\n",
       "      <td>-0.073742</td>\n",
       "    </tr>\n",
       "    <tr>\n",
       "      <th>Other</th>\n",
       "      <td>-0.193747</td>\n",
       "    </tr>\n",
       "    <tr>\n",
       "      <th>Birthrate</th>\n",
       "      <td>-0.657324</td>\n",
       "    </tr>\n",
       "    <tr>\n",
       "      <th>Deathrate</th>\n",
       "      <td>-0.046488</td>\n",
       "    </tr>\n",
       "    <tr>\n",
       "      <th>beer_servings</th>\n",
       "      <td>0.878170</td>\n",
       "    </tr>\n",
       "    <tr>\n",
       "      <th>spirit_servings</th>\n",
       "      <td>0.714299</td>\n",
       "    </tr>\n",
       "    <tr>\n",
       "      <th>wine_servings</th>\n",
       "      <td>0.723357</td>\n",
       "    </tr>\n",
       "    <tr>\n",
       "      <th>total_litres_of_pure_alcohol</th>\n",
       "      <td>1.000000</td>\n",
       "    </tr>\n",
       "    <tr>\n",
       "      <th>Numeric</th>\n",
       "      <td>0.522973</td>\n",
       "    </tr>\n",
       "    <tr>\n",
       "      <th>YearCode</th>\n",
       "      <td>NaN</td>\n",
       "    </tr>\n",
       "  </tbody>\n",
       "</table>\n",
       "</div>"
      ],
      "text/plain": [
       "                              total_litres_of_pure_alcohol\n",
       "Population                                       -0.011443\n",
       "Area                                              0.150210\n",
       "Pop. Density                                     -0.101727\n",
       "Coastline                                        -0.056365\n",
       "Net migration                                    -0.018710\n",
       "Infant mortality                                 -0.556204\n",
       "GDP                                               0.544550\n",
       "Literacy                                          0.603354\n",
       "Phones                                            0.602322\n",
       "Arable                                            0.283953\n",
       "Crops                                            -0.073742\n",
       "Other                                            -0.193747\n",
       "Birthrate                                        -0.657324\n",
       "Deathrate                                        -0.046488\n",
       "beer_servings                                     0.878170\n",
       "spirit_servings                                   0.714299\n",
       "wine_servings                                     0.723357\n",
       "total_litres_of_pure_alcohol                      1.000000\n",
       "Numeric                                           0.522973\n",
       "YearCode                                               NaN"
      ]
     },
     "execution_count": 60,
     "metadata": {},
     "output_type": "execute_result"
    }
   ],
   "source": [
    "most.corr()[[\"total_litres_of_pure_alcohol\"]]"
   ]
  },
  {
   "cell_type": "markdown",
   "metadata": {},
   "source": [
    "Not surprisingly, we can see that GDP, literacy, phones, infant mortality and so on is highly correlated with alcohol consumption. There seems to be a multicollinearity issue here. We can check two alternative OLS regressions and try to assess individual variables' statistical significance, i.e. their variance and also overall model significance to see if alcohol consumption offers any insights in understanding life expectancy.\n",
    "\n",
    "It is possible to use an algorithm to assist us in our feature selection but I highly doubt it is necessary here. Noisy variables and possible relevant variables seems to be easily noticeable by common sense alone. It is also possible to take a cross-validation approach or even create data partitions to see if our model fits good enough or not but it is also not very relevant for our problem at hand. We just want to see the effects of including the alcohol consumption to our model to ascertain that correlation doesn't always mean causation."
   ]
  },
  {
   "cell_type": "markdown",
   "metadata": {},
   "source": [
    "## OLS - Causation"
   ]
  },
  {
   "cell_type": "code",
   "execution_count": 81,
   "metadata": {},
   "outputs": [],
   "source": [
    "most.rename( columns = {\"Pop. Density\" : \"Pop_Density\", \"Net migration\" : \"Net_migration\", \"Infant mortality\" : \"Infant_mortality\"}, inplace = True)"
   ]
  },
  {
   "cell_type": "code",
   "execution_count": 86,
   "metadata": {},
   "outputs": [],
   "source": [
    "result_no_alcohol = sm.ols(formula=\"Numeric ~ Pop_Density + Net_migration + Infant_mortality + GDP\", data=most).fit()"
   ]
  },
  {
   "cell_type": "code",
   "execution_count": 88,
   "metadata": {},
   "outputs": [
    {
     "name": "stdout",
     "output_type": "stream",
     "text": [
      "                            OLS Regression Results                            \n",
      "==============================================================================\n",
      "Dep. Variable:                Numeric   R-squared:                       0.790\n",
      "Model:                            OLS   Adj. R-squared:                  0.785\n",
      "Method:                 Least Squares   F-statistic:                     173.9\n",
      "Date:                Mon, 24 May 2021   Prob (F-statistic):           1.57e-61\n",
      "Time:                        18:44:28   Log-Likelihood:                -529.23\n",
      "No. Observations:                 190   AIC:                             1068.\n",
      "Df Residuals:                     185   BIC:                             1085.\n",
      "Df Model:                           4                                         \n",
      "Covariance Type:            nonrobust                                         \n",
      "====================================================================================\n",
      "                       coef    std err          t      P>|t|      [0.025      0.975]\n",
      "------------------------------------------------------------------------------------\n",
      "Intercept           76.1053      0.791     96.264      0.000      74.546      77.665\n",
      "Pop_Density          0.0002      0.000      0.668      0.505      -0.000       0.001\n",
      "Net_migration        0.0726      0.078      0.936      0.351      -0.080       0.226\n",
      "Infant_mortality    -0.1698      0.011    -16.077      0.000      -0.191      -0.149\n",
      "GDP                  0.0002   4.27e-05      4.722      0.000       0.000       0.000\n",
      "==============================================================================\n",
      "Omnibus:                        6.069   Durbin-Watson:                   2.116\n",
      "Prob(Omnibus):                  0.048   Jarque-Bera (JB):                8.725\n",
      "Skew:                          -0.131   Prob(JB):                       0.0127\n",
      "Kurtosis:                       4.017   Cond. No.                     3.61e+04\n",
      "==============================================================================\n",
      "\n",
      "Notes:\n",
      "[1] Standard Errors assume that the covariance matrix of the errors is correctly specified.\n",
      "[2] The condition number is large, 3.61e+04. This might indicate that there are\n",
      "strong multicollinearity or other numerical problems.\n"
     ]
    }
   ],
   "source": [
    "print(result_no_alcohol.summary())"
   ]
  },
  {
   "cell_type": "markdown",
   "metadata": {},
   "source": [
    "The above simple OLS shows that infant mortality and GDP are highly significant in showing the patterns in life expectancy. Individually population density and net migration measures are insignificant but standard errors of GDP and infant mortality seems rather low, for GDP, it is almost nonexistent. R-squared and adjusted R-squared are quite high and F-statistic, which shows our model's overall significance is very high. We can easily say the model, even though it is very simple, shows promise. We can make it better by transforming some of the variables and even creating new ones from the existing data but what we have as it is should suffice for our purposes."
   ]
  },
  {
   "cell_type": "code",
   "execution_count": 89,
   "metadata": {},
   "outputs": [],
   "source": [
    "result_alcohol = sm.ols(formula=\"Numeric ~ Pop_Density + Net_migration + Infant_mortality + GDP + total_litres_of_pure_alcohol\", data=most).fit()"
   ]
  },
  {
   "cell_type": "code",
   "execution_count": 91,
   "metadata": {},
   "outputs": [
    {
     "name": "stdout",
     "output_type": "stream",
     "text": [
      "                            OLS Regression Results                            \n",
      "==============================================================================\n",
      "Dep. Variable:                Numeric   R-squared:                       0.790\n",
      "Model:                            OLS   Adj. R-squared:                  0.784\n",
      "Method:                 Least Squares   F-statistic:                     138.4\n",
      "Date:                Mon, 24 May 2021   Prob (F-statistic):           2.19e-60\n",
      "Time:                        18:50:02   Log-Likelihood:                -529.22\n",
      "No. Observations:                 190   AIC:                             1070.\n",
      "Df Residuals:                     184   BIC:                             1090.\n",
      "Df Model:                           5                                         \n",
      "Covariance Type:            nonrobust                                         \n",
      "================================================================================================\n",
      "                                   coef    std err          t      P>|t|      [0.025      0.975]\n",
      "------------------------------------------------------------------------------------------------\n",
      "Intercept                       76.1556      0.891     85.494      0.000      74.398      77.913\n",
      "Pop_Density                      0.0001      0.000      0.617      0.538      -0.000       0.001\n",
      "Net_migration                    0.0708      0.079      0.893      0.373      -0.086       0.227\n",
      "Infant_mortality                -0.1702      0.011    -15.417      0.000      -0.192      -0.148\n",
      "GDP                              0.0002   4.67e-05      4.365      0.000       0.000       0.000\n",
      "total_litres_of_pure_alcohol    -0.0129      0.104     -0.124      0.902      -0.218       0.193\n",
      "==============================================================================\n",
      "Omnibus:                        6.089   Durbin-Watson:                   2.116\n",
      "Prob(Omnibus):                  0.048   Jarque-Bera (JB):                8.789\n",
      "Skew:                          -0.130   Prob(JB):                       0.0123\n",
      "Kurtosis:                       4.021   Cond. No.                     4.06e+04\n",
      "==============================================================================\n",
      "\n",
      "Notes:\n",
      "[1] Standard Errors assume that the covariance matrix of the errors is correctly specified.\n",
      "[2] The condition number is large, 4.06e+04. This might indicate that there are\n",
      "strong multicollinearity or other numerical problems.\n"
     ]
    }
   ],
   "source": [
    "print(result_alcohol.summary())"
   ]
  },
  {
   "cell_type": "markdown",
   "metadata": {},
   "source": [
    "Including alcohol consumption to our model has several impact on our results. First of all, the alcohol consumption variable is statistically insignificant, its coefficient is most likely 0. Its inclusion has dramatically reduced our F-statistic (its p value has increased by 13 times, which is an adverse effect when it comes to p values). The model seems to have suffered by the inclusion of alcohol consumption. The individual t-statistics of all of our variables have worsened. \n",
    "\n",
    "We can safely suggest that alcohol consumption is highly correlated with other statistically significant variables that explains the differences in life expectencies of various countries. It is evident that correlation doesn't bring about causation. "
   ]
  }
 ],
 "metadata": {
  "kernelspec": {
   "display_name": "Python 3",
   "language": "python",
   "name": "python3"
  },
  "language_info": {
   "codemirror_mode": {
    "name": "ipython",
    "version": 3
   },
   "file_extension": ".py",
   "mimetype": "text/x-python",
   "name": "python",
   "nbconvert_exporter": "python",
   "pygments_lexer": "ipython3",
   "version": "3.8.5"
  }
 },
 "nbformat": 4,
 "nbformat_minor": 4
}
